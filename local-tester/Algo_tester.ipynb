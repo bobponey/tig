{
 "cells": [
  {
   "cell_type": "markdown",
   "id": "379663cb-08b5-4157-8929-1790a7c0a860",
   "metadata": {},
   "source": [
    "# Local TIG Algorithm Tester - single algorithm"
   ]
  },
  {
   "cell_type": "markdown",
   "id": "8ab5e85e-efe0-4d68-b001-b44e7a84f23b",
   "metadata": {},
   "source": [
    "Tests a selected algorithm from currently pushed algorithms or for testing the performance of your own algorithm. Settings:\n",
    "- Challenge name\n",
    "- Algorithm name (path)\n",
    "- Number of nonces/instances to test (Default 1000 nonces)\n",
    "- Difficulty selection\n",
    "- Number of cores used to test (Default 1 core)"
   ]
  },
  {
   "cell_type": "code",
   "execution_count": null,
   "id": "da1b0cda-7c2c-4cbe-9194-9f406ba50bd6",
   "metadata": {},
   "outputs": [],
   "source": [
    "#importing modules\n",
    "\n",
    "import ipywidgets as widgets\n",
    "import matplotlib.pyplot as plt\n",
    "import os\n",
    "import sys\n",
    "import requests\n",
    "import multiprocessing\n",
    "import time\n",
    "from tools import run_test, check_algorithm_existence, build_worker, dump_difficulty, get_wasm_blob"
   ]
  },
  {
   "cell_type": "markdown",
   "id": "6247367f-5a37-4628-a213-50bb2c11b7df",
   "metadata": {},
   "source": [
    "## Pulling Round Data\n",
    "If an error shows, run again as sometimes the server is not as cooperative until \"Complete\" is printed"
   ]
  },
  {
   "cell_type": "code",
   "execution_count": null,
   "id": "c8163550-0484-4909-b1db-0701f8c627ec",
   "metadata": {},
   "outputs": [],
   "source": [
    "# pulls data from the current block and round\n",
    "url = \"https://mainnet-api.tig.foundation/\"\n",
    "block_data = requests.get(f\"{url}get-block\").json()\n",
    "latest_block = block_data[\"block\"][\"id\"]\n",
    "\n",
    "challenge_data = requests.get(f\"{url}get-challenges?block_id={latest_block}\").json()\n",
    "algorithm_data = requests.get(f\"{url}get-algorithms?block_id={latest_block}\").json()\n",
    "\n",
    "challenge_id_dict = {challenge[\"id\"]:[challenge[\"details\"][\"name\"]] for challenge in challenge_data[\"challenges\"]}\n",
    "algorithm_id_dict = {algorithm[\"id\"]:algorithm[\"details\"][\"name\"] for algorithm in algorithm_data[\"algorithms\"] if algorithm[\"state\"][\"round_pushed\"]}\n",
    "[challenge_id_dict[algorithm[\"id\"][:4]].append(algorithm[\"id\"]) for algorithm in algorithm_data[\"algorithms\"] if algorithm[\"state\"][\"round_pushed\"]]\n",
    "\n",
    "print(\"Complete\")"
   ]
  },
  {
   "cell_type": "markdown",
   "id": "48c57f04-2199-4f17-801b-a6a262d2efcd",
   "metadata": {},
   "source": [
    "## Algorithm and settings selection"
   ]
  },
  {
   "cell_type": "markdown",
   "id": "58e5d89a",
   "metadata": {},
   "source": [
    "Add your algorithm's compiled .wasm file into the /wasm folder, and specify the name (e.g. for a file named knap_speed.wasm, enter: knap_speed)\n",
    "\n",
    "**Make sure you select the right challenge for the algorithm you want to test**"
   ]
  },
  {
   "cell_type": "code",
   "execution_count": null,
   "id": "62a7cdc1",
   "metadata": {},
   "outputs": [],
   "source": [
    "challenge_name = widgets.interactive(lambda Challenge:Challenge, Challenge=[\"satisfiability\", \"knapsack\", \"vehicle_routing\"])\n",
    "display(challenge_name)"
   ]
  },
  {
   "cell_type": "code",
   "execution_count": null,
   "id": "891d527d",
   "metadata": {},
   "outputs": [],
   "source": [
    "#Run this line to see all available algorithms for the challenge selected above\n",
    "id = None\n",
    "for c_id, c_info in challenge_id_dict.items():\n",
    "    if c_info[0] == challenge_name.result:\n",
    "        id = c_id\n",
    "\n",
    "for algo in challenge_id_dict[id][1:]:\n",
    "    print(algorithm_id_dict[algo])"
   ]
  },
  {
   "cell_type": "code",
   "execution_count": null,
   "id": "c1bd3bca",
   "metadata": {},
   "outputs": [],
   "source": [
    "algorithm_name = widgets.interactive(lambda Name:Name, Name=\"Algorithm name\")\n",
    "display(algorithm_name)"
   ]
  },
  {
   "cell_type": "code",
   "execution_count": null,
   "id": "909e8980",
   "metadata": {},
   "outputs": [],
   "source": [
    "#Run this box to check that your algorithm exists\n",
    "if check_algorithm_existence(algorithm_name.result, algorithm_id_dict=algorithm_id_dict):\n",
    "    print(\"Your algorithm exists\")\n",
    "else:\n",
    "    print(\"Your algorithm does not exist, please check again\")"
   ]
  },
  {
   "cell_type": "markdown",
   "id": "df2b6929",
   "metadata": {},
   "source": [
    "Enter the integer of the difficulty of each parameter e.g. for [20, 250], enter 20 and 250\n",
    "\n",
    "* [Difficulty for Satisfiability] Recommend [50, 300] for initial tests\n",
    "* [Difficulty for Vehicle Routing] Recommend [40, 250] for initial tests\n",
    "* [Difficulty for Knapsack] Recommend [50, 10] for initial tests\n"
   ]
  },
  {
   "cell_type": "code",
   "execution_count": null,
   "id": "7754bfc3-6ebc-4803-9108-a3d6ce5812fa",
   "metadata": {},
   "outputs": [],
   "source": [
    "param_1 = widgets.interactive(lambda param_1:param_1, param_1=\"0\")\n",
    "param_2 = widgets.interactive(lambda param_2:param_2, param_2=\"0\")\n",
    "\n",
    "display(param_1)\n",
    "display(param_2)"
   ]
  },
  {
   "cell_type": "markdown",
   "id": "3a8672b2",
   "metadata": {},
   "source": [
    "Enter the number of instances you would like to test your algorithm for as an integer"
   ]
  },
  {
   "cell_type": "code",
   "execution_count": null,
   "id": "09e531a9",
   "metadata": {},
   "outputs": [],
   "source": [
    "num_nonces = widgets.interactive(lambda instances:instances, instances=\"1\")\n",
    "display(num_nonces)"
   ]
  },
  {
   "cell_type": "markdown",
   "id": "fb84e247",
   "metadata": {},
   "source": [
    "Select the number of cores you want to use during the tests (out of your maximum cores)"
   ]
  },
  {
   "cell_type": "code",
   "execution_count": null,
   "id": "1a5de516-b4e3-473e-9ccd-f07d7e20f515",
   "metadata": {},
   "outputs": [],
   "source": [
    "num_cores = widgets.interactive(lambda x=1:x, x=(1, multiprocessing.cpu_count(),1))\n",
    "display(num_cores)"
   ]
  },
  {
   "cell_type": "markdown",
   "id": "29a9a473",
   "metadata": {},
   "source": [
    "## Testing Algorithm"
   ]
  },
  {
   "cell_type": "code",
   "execution_count": null,
   "id": "62da7d81-686c-4e90-8cf4-d52e9574d667",
   "metadata": {},
   "outputs": [],
   "source": [
    "#Run this cell until \"Complete\" is printed out\n",
    "%env RUSTFLAGS=-Awarnings\n",
    "\n",
    "build_worker()\n",
    "dump_difficulty([param_1.result, param_2.result])\n",
    "\n",
    "if check_algorithm_existence(algorithm_name.result, algorithm_id_dict=algorithm_id_dict):\n",
    "    os.environ[\"algorithm_name\"] = algorithm_name.result\n",
    "else:\n",
    "    sys.exit(\"Your algorithm does not exist, please re enter an existing algorithm before attempting to test it\")\n",
    "\n",
    "if not os.path.exists(f\"./wasm/{algorithm_name.result}.wasm\"):\n",
    "    branch_name = f\"{challenge_name.result}/{algorithm_name.result}\"\n",
    "    get_wasm_blob(algorithm_name.result, challenge_name.result)\n",
    "\n",
    "start_time = time.time()\n",
    "with multiprocessing.Pool(num_cores.result) as pool:\n",
    "    results = pool.map(run_test, range(int(num_nonces.result)))\n",
    "end_time = time.time()\n",
    "\n",
    "running_time = end_time - start_time\n",
    "num_solutions = results.count(0)\n",
    "num_invalid_solutions = results.count(1)\n",
    "num_errors = results.count(2)\n",
    "\n",
    "print(\"Complete\")"
   ]
  },
  {
   "cell_type": "markdown",
   "id": "f7123af8",
   "metadata": {},
   "source": [
    "**Make sure to re-run the test if you have changed any of the setting**"
   ]
  },
  {
   "cell_type": "code",
   "execution_count": null,
   "id": "51099548-5a45-4e9e-9e84-90422d0a2de6",
   "metadata": {},
   "outputs": [],
   "source": [
    "print(f\"Challenge name: {challenge_name.result}, algorithm name: {algorithm_name.result} at difficulty {[param_1.result, param_2.result]}\")\n",
    "print(f\"Tested {num_nonces.result} instances in {running_time*1000} ms\")\n",
    "print(f\"Found {num_solutions} solutions, received {num_errors} errors and {num_invalid_solutions} invalid solutions\")\n",
    "if num_solutions != 0:\n",
    "    print(f\"Resulting in an avg_time_per_solution of {(running_time / num_solutions)*1000} ms\")\n",
    "else:\n",
    "    print(\"No solutions were found\")"
   ]
  },
  {
   "cell_type": "markdown",
   "id": "de9e01ad",
   "metadata": {},
   "source": [
    "## Results Bar Chart"
   ]
  },
  {
   "cell_type": "markdown",
   "id": "9db58902",
   "metadata": {},
   "source": [
    "Run the cell below to output a simple bar chart"
   ]
  },
  {
   "cell_type": "code",
   "execution_count": null,
   "id": "62927a4b",
   "metadata": {},
   "outputs": [],
   "source": [
    "fig = plt.figure(figsize = (10, 5))\n",
    "plt.bar([\"Instances\", \"Solutions\", \"Invalid Solutions\", \"Errors\"],\n",
    "        [int(num_nonces.result), num_solutions, num_invalid_solutions, num_errors],\n",
    "        color = \"green\", width = 0.4)\n",
    "plt.xlabel(\"Results\")\n",
    "plt.ylabel(\"Occurrences\")\n",
    "plt.title(f\"Challenge: {challenge_name.result}     Algorithm: {algorithm_name.result}     Difficulty: {[param_1.result, param_2.result]}     Time: {(running_time)*1000:.2f}ms\")\n",
    "plt.show()"
   ]
  }
 ],
 "metadata": {
  "kernelspec": {
   "display_name": "Python 3 (ipykernel)",
   "language": "python",
   "name": "python3"
  },
  "language_info": {
   "codemirror_mode": {
    "name": "ipython",
    "version": 3
   },
   "file_extension": ".py",
   "mimetype": "text/x-python",
   "name": "python",
   "nbconvert_exporter": "python",
   "pygments_lexer": "ipython3",
   "version": "3.12.0"
  }
 },
 "nbformat": 4,
 "nbformat_minor": 5
}
